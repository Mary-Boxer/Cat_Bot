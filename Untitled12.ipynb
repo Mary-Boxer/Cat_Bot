{
  "nbformat": 4,
  "nbformat_minor": 0,
  "metadata": {
    "colab": {
      "provenance": [],
      "toc_visible": true,
      "authorship_tag": "ABX9TyOeyUmiYpdXfh4dOi2PYJC9",
      "include_colab_link": true
    },
    "kernelspec": {
      "name": "python3",
      "display_name": "Python 3"
    },
    "language_info": {
      "name": "python"
    }
  },
  "cells": [
    {
      "cell_type": "markdown",
      "metadata": {
        "id": "view-in-github",
        "colab_type": "text"
      },
      "source": [
        "<a href=\"https://colab.research.google.com/github/Mary-Boxer/Cat_Bot/blob/main/Untitled12.ipynb\" target=\"_parent\"><img src=\"https://colab.research.google.com/assets/colab-badge.svg\" alt=\"Open In Colab\"/></a>"
      ]
    },
    {
      "cell_type": "code",
      "execution_count": 14,
      "metadata": {
        "colab": {
          "base_uri": "https://localhost:8080/"
        },
        "id": "IU38itRhbQT-",
        "outputId": "db97b6ff-564a-4c3d-daf9-c2da31257a2f"
      },
      "outputs": [
        {
          "output_type": "stream",
          "name": "stdout",
          "text": [
            "Enter name:v\n",
            "Enter grade:10\n",
            "Enter name:l4\n",
            "Enter grade:b\n",
            "Invalid grade! Please enter a number.\n",
            "Enter name:h\n",
            "Enter grade:6\n",
            "Enter name:r\n",
            "Enter grade:3\n",
            "Enter name:stop\n",
            "Sorted students by grades, discending: [['V', 10], ['H', 6], ['R', 3]]\n",
            "Average grade: 6.33\n",
            "Students above avg:\n",
            "V:10\n",
            "You have 2 students with grade <7\n"
          ]
        }
      ],
      "source": [
        "def sort_high(students):\n",
        "  return sorted(students, key=lambda x: x[1], reverse=True)\n",
        "def above_avg(students):\n",
        "  if students:\n",
        "    grades=[student[1] for student in students]\n",
        "    avg=sum(grades)/len(grades)\n",
        "    print(f\"Average grade: {avg:.2f}\")\n",
        "    print(f\"Students above avg:\")\n",
        "    for student in students:\n",
        "      if student[1]>avg:\n",
        "        print(f\"{student[0]}:{student[1]}\")\n",
        "  else:\n",
        "    print(\"No students to analize\")\n",
        "students=[]\n",
        "count_low=0\n",
        "while True:\n",
        "  name=input(\"Enter name:\").capitalize()\n",
        "  if name==\"Stop\":\n",
        "    break\n",
        "  try:\n",
        "    grade=int(input(\"Enter grade:\"))\n",
        "    if grade<1 or grade>10:\n",
        "      print(\"Please enter a grade between 1 and 10!\")\n",
        "      continue\n",
        "    students.append([name, grade])\n",
        "    if grade<7:\n",
        "      count_low+=1\n",
        "  except ValueError:\n",
        "    print(\"Invalid grade! Please enter a number.\")\n",
        "students=sort_high(students)\n",
        "print(f\"Sorted students by grades, discending: {students}\")\n",
        "above_avg(students)\n",
        "print(f\"You have {count_low} students with grade <7\")"
      ]
    }
  ]
}