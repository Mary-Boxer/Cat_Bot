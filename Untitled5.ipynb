{
  "nbformat": 4,
  "nbformat_minor": 0,
  "metadata": {
    "colab": {
      "provenance": [],
      "toc_visible": true,
      "authorship_tag": "ABX9TyPlv9Ax5bx2s1uXR8isvt/l",
      "include_colab_link": true
    },
    "kernelspec": {
      "name": "python3",
      "display_name": "Python 3"
    },
    "language_info": {
      "name": "python"
    }
  },
  "cells": [
    {
      "cell_type": "markdown",
      "metadata": {
        "id": "view-in-github",
        "colab_type": "text"
      },
      "source": [
        "<a href=\"https://colab.research.google.com/github/Mary-Boxer/Cat_Bot/blob/main/Untitled5.ipynb\" target=\"_parent\"><img src=\"https://colab.research.google.com/assets/colab-badge.svg\" alt=\"Open In Colab\"/></a>"
      ]
    },
    {
      "cell_type": "code",
      "execution_count": 16,
      "metadata": {
        "id": "iWP4eMmL5iUI",
        "colab": {
          "base_uri": "https://localhost:8080/"
        },
        "outputId": "dc8efece-5924-4e75-f5fc-c4f9b2bc90c1"
      },
      "outputs": [
        {
          "output_type": "stream",
          "name": "stdout",
          "text": [
            "Enter student name (Stop to quit): l\n",
            "Enter your grade 1-10: 4\n",
            "Enter student name (Stop to quit): m\n",
            "Enter your grade 1-10: 5\n",
            "Enter student name (Stop to quit): f\n",
            "Enter your grade 1-10: 10\n",
            "Enter student name (Stop to quit): j\n",
            "Enter your grade 1-10: 10\n",
            "Enter student name (Stop to quit): stop\n",
            "Sorted by grades (descending): [['F', 10], ['J', 10], ['M', 5], ['L', 4]]\n",
            "Average grade: 7.25\n",
            "Students above average: \n",
            "F: 10\n",
            "J: 10\n",
            "You have 2 students with grades<7!\n"
          ]
        }
      ],
      "source": [
        "students=[]\n",
        "count_low=0\n",
        "while True:\n",
        "  name=input(\"Enter student name (Stop to quit): \").capitalize()\n",
        "  if name==\"Stop\":\n",
        "    break\n",
        "  try:\n",
        "    grade=int(input(\"Enter your grade 1-10: \"))\n",
        "    if grade<1 or grade>10:\n",
        "      print(\"Please enter a grade between 1 and 10!\")\n",
        "      continue\n",
        "    students.append([name, grade])\n",
        "    if grade<7:\n",
        "      count_low+=1\n",
        "  except ValueError:\n",
        "    print(\"Invalid grade! Please enter a number.\")\n",
        "if students:\n",
        "  students.sort(key=lambda x: x[1], reverse=True)\n",
        "  print(\"Sorted by grades (descending):\", students)\n",
        "  grades=[student[1] for student in students]\n",
        "  average=sum(grades)/len(grades)\n",
        "  print(f\"Average grade: {average:.2f}\")\n",
        "  print(\"Students above average: \")\n",
        "  for student in students:\n",
        "    if student[1]>average:\n",
        "      print(f\"{student[0]}: {student[1]}\")\n",
        "  print(f\"You have {count_low} students with grades<7!\")\n",
        "else:\n",
        "  print(\"No students were added!\")"
      ]
    },
    {
      "cell_type": "code",
      "source": [],
      "metadata": {
        "id": "oDVe1EEtE5je"
      },
      "execution_count": null,
      "outputs": []
    }
  ]
}